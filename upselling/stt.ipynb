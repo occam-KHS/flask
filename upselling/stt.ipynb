{
 "cells": [
  {
   "cell_type": "code",
   "execution_count": 2,
   "id": "78dd172d",
   "metadata": {},
   "outputs": [
    {
     "name": "stderr",
     "output_type": "stream",
     "text": [
      "c:\\Users\\PC\\miniconda3\\envs\\kdp\\lib\\site-packages\\tqdm\\auto.py:21: TqdmWarning: IProgress not found. Please update jupyter and ipywidgets. See https://ipywidgets.readthedocs.io/en/stable/user_install.html\n",
      "  from .autonotebook import tqdm as notebook_tqdm\n"
     ]
    }
   ],
   "source": [
    "from transformers import pipeline\n",
    "import os \n",
    "os.chdir('c:\\\\Users\\\\PC\\\\OneDrive\\\\문서\\\\KDP\\\\upselling')\n"
   ]
  },
  {
   "cell_type": "code",
   "execution_count": 3,
   "id": "974164d0",
   "metadata": {},
   "outputs": [
    {
     "data": {
      "text/plain": [
       "<_io.BufferedRandom name='audio.wav'>"
      ]
     },
     "execution_count": 3,
     "metadata": {},
     "output_type": "execute_result"
    }
   ],
   "source": [
    "from pydub import AudioSegment\n",
    "\n",
    "# Load and trim audio (first 30 seconds)\n",
    "audio = AudioSegment.from_file(\"처브 더핏 나만의 종합보험 요약.wav\")\n",
    "audio = audio[:30000]  # 30,000 ms = 30 seconds\n",
    "\n",
    "audio.export(\"audio.wav\", format=\"wav\")"
   ]
  },
  {
   "cell_type": "code",
   "execution_count": null,
   "id": "d32680ec",
   "metadata": {},
   "outputs": [],
   "source": []
  },
  {
   "cell_type": "code",
   "execution_count": 4,
   "id": "7bd25a5c",
   "metadata": {},
   "outputs": [
    {
     "name": "stderr",
     "output_type": "stream",
     "text": [
      "Device set to use cuda\n",
      "c:\\Users\\PC\\miniconda3\\envs\\kdp\\lib\\site-packages\\transformers\\models\\whisper\\generation_whisper.py:573: FutureWarning: The input name `inputs` is deprecated. Please make sure to use `input_features` instead.\n",
      "  warnings.warn(\n",
      "You have passed language=ko, but also have set `forced_decoder_ids` to [[1, None], [2, 50360]] which creates a conflict. `forced_decoder_ids` will be ignored in favor of language=ko.\n"
     ]
    },
    {
     "name": "stdout",
     "output_type": "stream",
     "text": [
      " 안녕하세요. 오늘 청취자께서 보내주신 상품 요약서, 초부의 더핏, 나만의 종합보험, 같이 한번 제대로 파헤쳐 보겠습니다. 네. 이게 라이나 손해보험 이름으로 나왔는데, 음, 찾아보니 에이스 손해보험이 초부 그룹 소속으로 판매하는 상품이더라고요. 맞습니다. 라이나 손해보험이라는 브랜드명으로 나오는 거죠? 나만의 종합보험이라니, 뭔가 딱 맞춤형 느낌인데, 핵심만 좀 빠르게 칩어봐야 할 것 같아요.\n"
     ]
    }
   ],
   "source": [
    "\n",
    "asr = pipeline(\"automatic-speech-recognition\", model=\"openai/whisper-large-v3-turbo\",  device=\"cuda\")\n",
    "# result = asr(\"audio.wav\", generate_kwargs={\"language\": \"<|ko|>\"})  \n",
    "result = asr(\"audio.wav\", generate_kwargs={\"language\": \"ko\"})  # Specify language as Korean)  \n",
    "print(result[\"text\"])"
   ]
  },
  {
   "cell_type": "code",
   "execution_count": null,
   "id": "9c22eb9b",
   "metadata": {},
   "outputs": [],
   "source": []
  },
  {
   "cell_type": "code",
   "execution_count": null,
   "id": "ce4043e7",
   "metadata": {},
   "outputs": [],
   "source": [
    "from pydub import AudioSegment\n",
    "\n",
    "# Load and trim audio (first 30 seconds)\n",
    "audio = AudioSegment.from_file(\"your_audio.wav\")\n",
    "audio = audio[:30000]  # 30,000 ms = 30 seconds\n",
    "audio.export(\"trimmed_audio.wav\", format=\"wav\")"
   ]
  },
  {
   "cell_type": "markdown",
   "id": "6931e41b",
   "metadata": {},
   "source": []
  },
  {
   "cell_type": "code",
   "execution_count": null,
   "id": "4b2f09db",
   "metadata": {},
   "outputs": [],
   "source": [
    "import torch\n",
    "\n",
    "print(torch.cuda.is_available())  # Should print True if GPU is available\n",
    "print(torch.cuda.get_device_name(0))  # Optional: See GPU name"
   ]
  },
  {
   "cell_type": "code",
   "execution_count": 1,
   "id": "326c3393",
   "metadata": {},
   "outputs": [
    {
     "name": "stdout",
     "output_type": "stream",
     "text": [
      "CUDA available: True\n",
      "Device name: NVIDIA RTX A1000 Laptop GPU\n"
     ]
    }
   ],
   "source": [
    "import torch\n",
    "\n",
    "print(\"CUDA available:\", torch.cuda.is_available())\n",
    "print(\"Device name:\", torch.cuda.get_device_name(0) if torch.cuda.is_available() else \"No GPU\")\n"
   ]
  },
  {
   "cell_type": "code",
   "execution_count": null,
   "id": "0caa324d",
   "metadata": {},
   "outputs": [],
   "source": []
  },
  {
   "cell_type": "code",
   "execution_count": 6,
   "id": "d1a82d55",
   "metadata": {},
   "outputs": [
    {
     "data": {
      "text/plain": [
       "'c:\\\\Users\\\\PC\\\\OneDrive\\\\문서\\\\KDP'"
      ]
     },
     "execution_count": 6,
     "metadata": {},
     "output_type": "execute_result"
    }
   ],
   "source": [
    "import os\n",
    "os.getcwd()"
   ]
  }
 ],
 "metadata": {
  "kernelspec": {
   "display_name": "kdp",
   "language": "python",
   "name": "python3"
  },
  "language_info": {
   "codemirror_mode": {
    "name": "ipython",
    "version": 3
   },
   "file_extension": ".py",
   "mimetype": "text/x-python",
   "name": "python",
   "nbconvert_exporter": "python",
   "pygments_lexer": "ipython3",
   "version": "3.10.16"
  }
 },
 "nbformat": 4,
 "nbformat_minor": 5
}
